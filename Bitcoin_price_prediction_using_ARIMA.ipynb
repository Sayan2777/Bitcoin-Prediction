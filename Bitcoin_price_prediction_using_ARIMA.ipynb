{
 "cells": [
  {
   "cell_type": "code",
   "execution_count": 1,
   "id": "4381ef65",
   "metadata": {},
   "outputs": [],
   "source": [
    "# Importing the essential libraries\n",
    "\n",
    "import pandas as pd\n",
    "import numpy as np\n",
    "\n",
    "# importing the plotting libraries\n",
    "import matplotlib.pyplot as plt\n",
    "%matplotlib inline\n",
    "import seaborn as sns\n",
    "\n",
    "from datetime import datetime\n",
    "from itertools import product\n",
    "import warnings\n",
    "warnings.filterwarnings('ignore')\n",
    "from scipy import stats\n",
    "\n",
    "# Importing the libraries to train the model\n",
    "from statsmodels.tsa.arima_model import ARIMA\n",
    "import statsmodels.api as sm"
   ]
  },
  {
   "cell_type": "code",
   "execution_count": 2,
   "id": "b5a597b1",
   "metadata": {},
   "outputs": [],
   "source": [
    "# Reading the data \n",
    "\n",
    "df = pd.read_csv('bitstampUSD_1-min_data_2012-01-01_to_2017-10-20')"
   ]
  },
  {
   "cell_type": "code",
   "execution_count": 3,
   "id": "0f7755db",
   "metadata": {},
   "outputs": [
    {
     "data": {
      "text/html": [
       "<div>\n",
       "<style scoped>\n",
       "    .dataframe tbody tr th:only-of-type {\n",
       "        vertical-align: middle;\n",
       "    }\n",
       "\n",
       "    .dataframe tbody tr th {\n",
       "        vertical-align: top;\n",
       "    }\n",
       "\n",
       "    .dataframe thead th {\n",
       "        text-align: right;\n",
       "    }\n",
       "</style>\n",
       "<table border=\"1\" class=\"dataframe\">\n",
       "  <thead>\n",
       "    <tr style=\"text-align: right;\">\n",
       "      <th></th>\n",
       "      <th>Timestamp</th>\n",
       "      <th>Open</th>\n",
       "      <th>High</th>\n",
       "      <th>Low</th>\n",
       "      <th>Close</th>\n",
       "      <th>Volume_(BTC)</th>\n",
       "      <th>Volume_(Currency)</th>\n",
       "      <th>Weighted_Price</th>\n",
       "    </tr>\n",
       "  </thead>\n",
       "  <tbody>\n",
       "    <tr>\n",
       "      <th>0</th>\n",
       "      <td>1325317920</td>\n",
       "      <td>4.39</td>\n",
       "      <td>4.39</td>\n",
       "      <td>4.39</td>\n",
       "      <td>4.39</td>\n",
       "      <td>0.455581</td>\n",
       "      <td>2.000000</td>\n",
       "      <td>4.390000</td>\n",
       "    </tr>\n",
       "    <tr>\n",
       "      <th>1</th>\n",
       "      <td>1325317980</td>\n",
       "      <td>4.39</td>\n",
       "      <td>4.39</td>\n",
       "      <td>4.39</td>\n",
       "      <td>4.39</td>\n",
       "      <td>0.455581</td>\n",
       "      <td>2.000000</td>\n",
       "      <td>4.390000</td>\n",
       "    </tr>\n",
       "    <tr>\n",
       "      <th>2</th>\n",
       "      <td>1325318040</td>\n",
       "      <td>4.39</td>\n",
       "      <td>4.39</td>\n",
       "      <td>4.39</td>\n",
       "      <td>4.39</td>\n",
       "      <td>0.455581</td>\n",
       "      <td>2.000000</td>\n",
       "      <td>4.390000</td>\n",
       "    </tr>\n",
       "    <tr>\n",
       "      <th>3</th>\n",
       "      <td>1325318100</td>\n",
       "      <td>4.39</td>\n",
       "      <td>4.39</td>\n",
       "      <td>4.39</td>\n",
       "      <td>4.39</td>\n",
       "      <td>0.455581</td>\n",
       "      <td>2.000000</td>\n",
       "      <td>4.390000</td>\n",
       "    </tr>\n",
       "    <tr>\n",
       "      <th>4</th>\n",
       "      <td>1325318160</td>\n",
       "      <td>4.39</td>\n",
       "      <td>4.39</td>\n",
       "      <td>4.39</td>\n",
       "      <td>4.39</td>\n",
       "      <td>0.455581</td>\n",
       "      <td>2.000000</td>\n",
       "      <td>4.390000</td>\n",
       "    </tr>\n",
       "    <tr>\n",
       "      <th>...</th>\n",
       "      <td>...</td>\n",
       "      <td>...</td>\n",
       "      <td>...</td>\n",
       "      <td>...</td>\n",
       "      <td>...</td>\n",
       "      <td>...</td>\n",
       "      <td>...</td>\n",
       "      <td>...</td>\n",
       "    </tr>\n",
       "    <tr>\n",
       "      <th>3045852</th>\n",
       "      <td>1508457360</td>\n",
       "      <td>5690.88</td>\n",
       "      <td>5690.88</td>\n",
       "      <td>5690.88</td>\n",
       "      <td>5690.88</td>\n",
       "      <td>0.168941</td>\n",
       "      <td>961.421706</td>\n",
       "      <td>5690.880000</td>\n",
       "    </tr>\n",
       "    <tr>\n",
       "      <th>3045853</th>\n",
       "      <td>1508457420</td>\n",
       "      <td>5698.13</td>\n",
       "      <td>5704.10</td>\n",
       "      <td>5695.63</td>\n",
       "      <td>5704.10</td>\n",
       "      <td>2.311662</td>\n",
       "      <td>13174.852877</td>\n",
       "      <td>5699.300163</td>\n",
       "    </tr>\n",
       "    <tr>\n",
       "      <th>3045854</th>\n",
       "      <td>1508457480</td>\n",
       "      <td>5695.62</td>\n",
       "      <td>5695.64</td>\n",
       "      <td>5694.00</td>\n",
       "      <td>5695.64</td>\n",
       "      <td>0.129647</td>\n",
       "      <td>738.409647</td>\n",
       "      <td>5695.533637</td>\n",
       "    </tr>\n",
       "    <tr>\n",
       "      <th>3045855</th>\n",
       "      <td>1508457540</td>\n",
       "      <td>5700.39</td>\n",
       "      <td>5700.39</td>\n",
       "      <td>5698.69</td>\n",
       "      <td>5698.69</td>\n",
       "      <td>0.085426</td>\n",
       "      <td>486.929798</td>\n",
       "      <td>5700.004031</td>\n",
       "    </tr>\n",
       "    <tr>\n",
       "      <th>3045856</th>\n",
       "      <td>1508457600</td>\n",
       "      <td>5700.00</td>\n",
       "      <td>5700.00</td>\n",
       "      <td>5698.68</td>\n",
       "      <td>5700.00</td>\n",
       "      <td>0.116847</td>\n",
       "      <td>665.913860</td>\n",
       "      <td>5699.046463</td>\n",
       "    </tr>\n",
       "  </tbody>\n",
       "</table>\n",
       "<p>3045857 rows × 8 columns</p>\n",
       "</div>"
      ],
      "text/plain": [
       "          Timestamp     Open     High      Low    Close  Volume_(BTC)  \\\n",
       "0        1325317920     4.39     4.39     4.39     4.39      0.455581   \n",
       "1        1325317980     4.39     4.39     4.39     4.39      0.455581   \n",
       "2        1325318040     4.39     4.39     4.39     4.39      0.455581   \n",
       "3        1325318100     4.39     4.39     4.39     4.39      0.455581   \n",
       "4        1325318160     4.39     4.39     4.39     4.39      0.455581   \n",
       "...             ...      ...      ...      ...      ...           ...   \n",
       "3045852  1508457360  5690.88  5690.88  5690.88  5690.88      0.168941   \n",
       "3045853  1508457420  5698.13  5704.10  5695.63  5704.10      2.311662   \n",
       "3045854  1508457480  5695.62  5695.64  5694.00  5695.64      0.129647   \n",
       "3045855  1508457540  5700.39  5700.39  5698.69  5698.69      0.085426   \n",
       "3045856  1508457600  5700.00  5700.00  5698.68  5700.00      0.116847   \n",
       "\n",
       "         Volume_(Currency)  Weighted_Price  \n",
       "0                 2.000000        4.390000  \n",
       "1                 2.000000        4.390000  \n",
       "2                 2.000000        4.390000  \n",
       "3                 2.000000        4.390000  \n",
       "4                 2.000000        4.390000  \n",
       "...                    ...             ...  \n",
       "3045852         961.421706     5690.880000  \n",
       "3045853       13174.852877     5699.300163  \n",
       "3045854         738.409647     5695.533637  \n",
       "3045855         486.929798     5700.004031  \n",
       "3045856         665.913860     5699.046463  \n",
       "\n",
       "[3045857 rows x 8 columns]"
      ]
     },
     "execution_count": 3,
     "metadata": {},
     "output_type": "execute_result"
    }
   ],
   "source": [
    "df"
   ]
  },
  {
   "cell_type": "code",
   "execution_count": 4,
   "id": "7ca998aa",
   "metadata": {},
   "outputs": [
    {
     "name": "stdout",
     "output_type": "stream",
     "text": [
      "<class 'pandas.core.frame.DataFrame'>\n",
      "RangeIndex: 3045857 entries, 0 to 3045856\n",
      "Data columns (total 8 columns):\n",
      " #   Column             Dtype  \n",
      "---  ------             -----  \n",
      " 0   Timestamp          int64  \n",
      " 1   Open               float64\n",
      " 2   High               float64\n",
      " 3   Low                float64\n",
      " 4   Close              float64\n",
      " 5   Volume_(BTC)       float64\n",
      " 6   Volume_(Currency)  float64\n",
      " 7   Weighted_Price     float64\n",
      "dtypes: float64(7), int64(1)\n",
      "memory usage: 185.9 MB\n"
     ]
    }
   ],
   "source": [
    "df.info()"
   ]
  },
  {
   "cell_type": "code",
   "execution_count": 5,
   "id": "1496a2d7",
   "metadata": {},
   "outputs": [
    {
     "data": {
      "text/plain": [
       "Timestamp            0\n",
       "Open                 0\n",
       "High                 0\n",
       "Low                  0\n",
       "Close                0\n",
       "Volume_(BTC)         0\n",
       "Volume_(Currency)    0\n",
       "Weighted_Price       0\n",
       "dtype: int64"
      ]
     },
     "execution_count": 5,
     "metadata": {},
     "output_type": "execute_result"
    }
   ],
   "source": [
    "df.isnull().sum()"
   ]
  },
  {
   "cell_type": "markdown",
   "id": "aa2f7e16",
   "metadata": {},
   "source": [
    "### Converting the data into proper time series data "
   ]
  },
  {
   "cell_type": "code",
   "execution_count": 6,
   "id": "b5e0ea81",
   "metadata": {},
   "outputs": [],
   "source": [
    "# Converting the timestamp to proper Date time format\n",
    "\n",
    "df['Timestamp'] = pd.to_datetime(df.Timestamp, unit = 's')"
   ]
  },
  {
   "cell_type": "code",
   "execution_count": 7,
   "id": "2831e7e0",
   "metadata": {},
   "outputs": [],
   "source": [
    "df.index = df.Timestamp"
   ]
  },
  {
   "cell_type": "code",
   "execution_count": 8,
   "id": "0aed485a",
   "metadata": {},
   "outputs": [
    {
     "data": {
      "text/html": [
       "<div>\n",
       "<style scoped>\n",
       "    .dataframe tbody tr th:only-of-type {\n",
       "        vertical-align: middle;\n",
       "    }\n",
       "\n",
       "    .dataframe tbody tr th {\n",
       "        vertical-align: top;\n",
       "    }\n",
       "\n",
       "    .dataframe thead th {\n",
       "        text-align: right;\n",
       "    }\n",
       "</style>\n",
       "<table border=\"1\" class=\"dataframe\">\n",
       "  <thead>\n",
       "    <tr style=\"text-align: right;\">\n",
       "      <th></th>\n",
       "      <th>Open</th>\n",
       "      <th>High</th>\n",
       "      <th>Low</th>\n",
       "      <th>Close</th>\n",
       "      <th>Volume_(BTC)</th>\n",
       "      <th>Volume_(Currency)</th>\n",
       "      <th>Weighted_Price</th>\n",
       "    </tr>\n",
       "    <tr>\n",
       "      <th>Timestamp</th>\n",
       "      <th></th>\n",
       "      <th></th>\n",
       "      <th></th>\n",
       "      <th></th>\n",
       "      <th></th>\n",
       "      <th></th>\n",
       "      <th></th>\n",
       "    </tr>\n",
       "  </thead>\n",
       "  <tbody>\n",
       "    <tr>\n",
       "      <th>2011-12-31</th>\n",
       "      <td>4.472552</td>\n",
       "      <td>4.472624</td>\n",
       "      <td>4.472552</td>\n",
       "      <td>4.472624</td>\n",
       "      <td>7.590527</td>\n",
       "      <td>34.069690</td>\n",
       "      <td>4.472579</td>\n",
       "    </tr>\n",
       "    <tr>\n",
       "      <th>2012-01-01</th>\n",
       "      <td>4.680778</td>\n",
       "      <td>4.680778</td>\n",
       "      <td>4.680778</td>\n",
       "      <td>4.680778</td>\n",
       "      <td>5.861697</td>\n",
       "      <td>27.856539</td>\n",
       "      <td>4.680778</td>\n",
       "    </tr>\n",
       "    <tr>\n",
       "      <th>2012-01-02</th>\n",
       "      <td>5.000000</td>\n",
       "      <td>5.000000</td>\n",
       "      <td>5.000000</td>\n",
       "      <td>5.000000</td>\n",
       "      <td>11.566478</td>\n",
       "      <td>57.832389</td>\n",
       "      <td>5.000000</td>\n",
       "    </tr>\n",
       "    <tr>\n",
       "      <th>2012-01-03</th>\n",
       "      <td>5.145917</td>\n",
       "      <td>5.145917</td>\n",
       "      <td>5.145917</td>\n",
       "      <td>5.145917</td>\n",
       "      <td>13.506125</td>\n",
       "      <td>68.725391</td>\n",
       "      <td>5.145917</td>\n",
       "    </tr>\n",
       "    <tr>\n",
       "      <th>2012-01-04</th>\n",
       "      <td>5.176708</td>\n",
       "      <td>5.228729</td>\n",
       "      <td>5.176708</td>\n",
       "      <td>5.228729</td>\n",
       "      <td>17.221039</td>\n",
       "      <td>91.624089</td>\n",
       "      <td>5.195443</td>\n",
       "    </tr>\n",
       "    <tr>\n",
       "      <th>...</th>\n",
       "      <td>...</td>\n",
       "      <td>...</td>\n",
       "      <td>...</td>\n",
       "      <td>...</td>\n",
       "      <td>...</td>\n",
       "      <td>...</td>\n",
       "      <td>...</td>\n",
       "    </tr>\n",
       "    <tr>\n",
       "      <th>2017-10-16</th>\n",
       "      <td>5674.048944</td>\n",
       "      <td>5677.034090</td>\n",
       "      <td>5669.645271</td>\n",
       "      <td>5673.469021</td>\n",
       "      <td>6.407134</td>\n",
       "      <td>36396.532861</td>\n",
       "      <td>5673.302997</td>\n",
       "    </tr>\n",
       "    <tr>\n",
       "      <th>2017-10-17</th>\n",
       "      <td>5625.865868</td>\n",
       "      <td>5628.567007</td>\n",
       "      <td>5622.224722</td>\n",
       "      <td>5625.583125</td>\n",
       "      <td>6.373724</td>\n",
       "      <td>35728.765723</td>\n",
       "      <td>5625.281402</td>\n",
       "    </tr>\n",
       "    <tr>\n",
       "      <th>2017-10-18</th>\n",
       "      <td>5402.691951</td>\n",
       "      <td>5406.766583</td>\n",
       "      <td>5397.270688</td>\n",
       "      <td>5402.310153</td>\n",
       "      <td>13.177135</td>\n",
       "      <td>70645.898214</td>\n",
       "      <td>5401.841422</td>\n",
       "    </tr>\n",
       "    <tr>\n",
       "      <th>2017-10-19</th>\n",
       "      <td>5654.054361</td>\n",
       "      <td>5657.417215</td>\n",
       "      <td>5650.167792</td>\n",
       "      <td>5654.104563</td>\n",
       "      <td>6.950835</td>\n",
       "      <td>39301.439935</td>\n",
       "      <td>5653.877092</td>\n",
       "    </tr>\n",
       "    <tr>\n",
       "      <th>2017-10-20</th>\n",
       "      <td>5700.000000</td>\n",
       "      <td>5700.000000</td>\n",
       "      <td>5698.680000</td>\n",
       "      <td>5700.000000</td>\n",
       "      <td>0.116847</td>\n",
       "      <td>665.913860</td>\n",
       "      <td>5699.046463</td>\n",
       "    </tr>\n",
       "  </tbody>\n",
       "</table>\n",
       "<p>2121 rows × 7 columns</p>\n",
       "</div>"
      ],
      "text/plain": [
       "                   Open         High          Low        Close  Volume_(BTC)  \\\n",
       "Timestamp                                                                      \n",
       "2011-12-31     4.472552     4.472624     4.472552     4.472624      7.590527   \n",
       "2012-01-01     4.680778     4.680778     4.680778     4.680778      5.861697   \n",
       "2012-01-02     5.000000     5.000000     5.000000     5.000000     11.566478   \n",
       "2012-01-03     5.145917     5.145917     5.145917     5.145917     13.506125   \n",
       "2012-01-04     5.176708     5.228729     5.176708     5.228729     17.221039   \n",
       "...                 ...          ...          ...          ...           ...   \n",
       "2017-10-16  5674.048944  5677.034090  5669.645271  5673.469021      6.407134   \n",
       "2017-10-17  5625.865868  5628.567007  5622.224722  5625.583125      6.373724   \n",
       "2017-10-18  5402.691951  5406.766583  5397.270688  5402.310153     13.177135   \n",
       "2017-10-19  5654.054361  5657.417215  5650.167792  5654.104563      6.950835   \n",
       "2017-10-20  5700.000000  5700.000000  5698.680000  5700.000000      0.116847   \n",
       "\n",
       "            Volume_(Currency)  Weighted_Price  \n",
       "Timestamp                                      \n",
       "2011-12-31          34.069690        4.472579  \n",
       "2012-01-01          27.856539        4.680778  \n",
       "2012-01-02          57.832389        5.000000  \n",
       "2012-01-03          68.725391        5.145917  \n",
       "2012-01-04          91.624089        5.195443  \n",
       "...                       ...             ...  \n",
       "2017-10-16       36396.532861     5673.302997  \n",
       "2017-10-17       35728.765723     5625.281402  \n",
       "2017-10-18       70645.898214     5401.841422  \n",
       "2017-10-19       39301.439935     5653.877092  \n",
       "2017-10-20         665.913860     5699.046463  \n",
       "\n",
       "[2121 rows x 7 columns]"
      ]
     },
     "execution_count": 8,
     "metadata": {},
     "output_type": "execute_result"
    }
   ],
   "source": [
    "# Resampling to daily frequency\n",
    "\n",
    "df = df.resample('D').mean()\n",
    "df"
   ]
  },
  {
   "cell_type": "code",
   "execution_count": 9,
   "id": "23e03991",
   "metadata": {},
   "outputs": [],
   "source": [
    "# Resampling the data to monthly frequency\n",
    "\n",
    "df_month = df.resample('M').mean()"
   ]
  },
  {
   "cell_type": "code",
   "execution_count": 10,
   "id": "d9613375",
   "metadata": {},
   "outputs": [],
   "source": [
    "# Resampling the data to yearly frequency\n",
    "\n",
    "df_year = df.resample('A-DEC').mean()"
   ]
  },
  {
   "cell_type": "code",
   "execution_count": 36,
   "id": "2aa5197c",
   "metadata": {},
   "outputs": [],
   "source": [
    "# Resampling on quarterly basis\n",
    "\n",
    "df_quater = df.resample('Q-DEC').mean()"
   ]
  },
  {
   "cell_type": "markdown",
   "id": "2af82dc8",
   "metadata": {},
   "source": [
    "# Visualize the data"
   ]
  },
  {
   "cell_type": "code",
   "execution_count": 12,
   "id": "2d74429e",
   "metadata": {},
   "outputs": [
    {
     "data": {
      "text/plain": [
       "<matplotlib.legend.Legend at 0x1e4874f2280>"
      ]
     },
     "execution_count": 12,
     "metadata": {},
     "output_type": "execute_result"
    },
    {
     "data": {
      "image/png": "[encoded data removed]",
      "text/plain": [
       "<Figure size 1008x504 with 4 Axes>"
      ]
     },
     "metadata": {
      "needs_background": "light"
     },
     "output_type": "display_data"
    }
   ],
   "source": [
    "plt.figure(figsize=(14,7))\n",
    "\n",
    "plt.suptitle('Bitcoin Exchanges, mean USD')\n",
    "\n",
    "plt.subplot(221)\n",
    "plt.plot(df.Weighted_Price, label = 'Price by days')\n",
    "plt.legend()\n",
    "\n",
    "plt.subplot(222)\n",
    "plt.plot(df_month.Weighted_Price, label = 'Price by months')\n",
    "plt.legend()\n",
    "\n",
    "plt.subplot(223)\n",
    "plt.plot(df_year.Weighted_Price, label = 'Price by years')\n",
    "plt.legend()\n",
    "\n",
    "plt.subplot(224)\n",
    "plt.plot(df_quater.Weighted_Price, label = 'Price every quater')\n",
    "plt.legend()"
   ]
  },
  {
   "cell_type": "markdown",
   "id": "5b801a63",
   "metadata": {},
   "source": [
    "### Now we check for Statinarity in the data"
   ]
  },
  {
   "cell_type": "code",
   "execution_count": 13,
   "id": "476ec291",
   "metadata": {},
   "outputs": [],
   "source": [
    "# AD Fuller test (Augmented Dicky Fuller test)\n",
    "\n",
    "from statsmodels.tsa.stattools import adfuller\n",
    "\n",
    "def ad_fuller_test(Weighted_Price):\n",
    "    result = adfuller(Weighted_Price)\n",
    "    print('p-value: {}', format(result[1]))\n",
    "    if result[1] < 0.05:\n",
    "        print(\"Strong evidence against Null Hypothesis, indicating the data is stationary\")\n",
    "    else:\n",
    "        print(\"Weak evidence against Null Hypothesis, indicating the data is not stationary\")"
   ]
  },
  {
   "cell_type": "code",
   "execution_count": 14,
   "id": "579bc942",
   "metadata": {},
   "outputs": [
    {
     "name": "stdout",
     "output_type": "stream",
     "text": [
      "p-value: {} 0.9948321175538474\n",
      "Weak evidence against Null Hypothesis, indicating the data is not stationary\n"
     ]
    }
   ],
   "source": [
    "ad_fuller_test(df_year['Weighted_Price'])"
   ]
  },
  {
   "cell_type": "code",
   "execution_count": 15,
   "id": "34e5b283",
   "metadata": {},
   "outputs": [
    {
     "name": "stdout",
     "output_type": "stream",
     "text": [
      "p-value: {} 1.0\n",
      "Weak evidence against Null Hypothesis, indicating the data is not stationary\n"
     ]
    }
   ],
   "source": [
    "ad_fuller_test(df_month['Weighted_Price'])"
   ]
  },
  {
   "cell_type": "markdown",
   "id": "6635b6f2",
   "metadata": {},
   "source": [
    "## Box-Cox Transformations"
   ]
  },
  {
   "cell_type": "markdown",
   "id": "a2dbeeb8",
   "metadata": {},
   "source": [
    "###### To make the series more linear and the resulting distribution more uniform"
   ]
  },
  {
   "cell_type": "code",
   "execution_count": 16,
   "id": "d2f5d05a",
   "metadata": {},
   "outputs": [
    {
     "data": {
      "text/html": [
       "<div>\n",
       "<style scoped>\n",
       "    .dataframe tbody tr th:only-of-type {\n",
       "        vertical-align: middle;\n",
       "    }\n",
       "\n",
       "    .dataframe tbody tr th {\n",
       "        vertical-align: top;\n",
       "    }\n",
       "\n",
       "    .dataframe thead th {\n",
       "        text-align: right;\n",
       "    }\n",
       "</style>\n",
       "<table border=\"1\" class=\"dataframe\">\n",
       "  <thead>\n",
       "    <tr style=\"text-align: right;\">\n",
       "      <th></th>\n",
       "      <th>Open</th>\n",
       "      <th>High</th>\n",
       "      <th>Low</th>\n",
       "      <th>Close</th>\n",
       "      <th>Volume_(BTC)</th>\n",
       "      <th>Volume_(Currency)</th>\n",
       "      <th>Weighted_Price</th>\n",
       "      <th>Weighted_Price_box</th>\n",
       "    </tr>\n",
       "    <tr>\n",
       "      <th>Timestamp</th>\n",
       "      <th></th>\n",
       "      <th></th>\n",
       "      <th></th>\n",
       "      <th></th>\n",
       "      <th></th>\n",
       "      <th></th>\n",
       "      <th></th>\n",
       "      <th></th>\n",
       "    </tr>\n",
       "  </thead>\n",
       "  <tbody>\n",
       "    <tr>\n",
       "      <th>2011-12-31</th>\n",
       "      <td>4.472552</td>\n",
       "      <td>4.472624</td>\n",
       "      <td>4.472552</td>\n",
       "      <td>4.472624</td>\n",
       "      <td>7.590527</td>\n",
       "      <td>34.069690</td>\n",
       "      <td>4.472579</td>\n",
       "      <td>1.731340</td>\n",
       "    </tr>\n",
       "    <tr>\n",
       "      <th>2012-01-31</th>\n",
       "      <td>6.235412</td>\n",
       "      <td>6.239745</td>\n",
       "      <td>6.231737</td>\n",
       "      <td>6.236086</td>\n",
       "      <td>4.955810</td>\n",
       "      <td>29.527545</td>\n",
       "      <td>6.234949</td>\n",
       "      <td>2.186296</td>\n",
       "    </tr>\n",
       "    <tr>\n",
       "      <th>2012-02-29</th>\n",
       "      <td>5.234146</td>\n",
       "      <td>5.234743</td>\n",
       "      <td>5.231709</td>\n",
       "      <td>5.232306</td>\n",
       "      <td>7.153212</td>\n",
       "      <td>37.120786</td>\n",
       "      <td>5.232734</td>\n",
       "      <td>1.942754</td>\n",
       "    </tr>\n",
       "    <tr>\n",
       "      <th>2012-03-31</th>\n",
       "      <td>4.960839</td>\n",
       "      <td>4.961539</td>\n",
       "      <td>4.953547</td>\n",
       "      <td>4.953967</td>\n",
       "      <td>13.455398</td>\n",
       "      <td>66.445048</td>\n",
       "      <td>4.958308</td>\n",
       "      <td>1.869493</td>\n",
       "    </tr>\n",
       "    <tr>\n",
       "      <th>2012-04-30</th>\n",
       "      <td>4.980709</td>\n",
       "      <td>4.982016</td>\n",
       "      <td>4.979536</td>\n",
       "      <td>4.980802</td>\n",
       "      <td>18.732216</td>\n",
       "      <td>92.674707</td>\n",
       "      <td>4.980866</td>\n",
       "      <td>1.875637</td>\n",
       "    </tr>\n",
       "    <tr>\n",
       "      <th>...</th>\n",
       "      <td>...</td>\n",
       "      <td>...</td>\n",
       "      <td>...</td>\n",
       "      <td>...</td>\n",
       "      <td>...</td>\n",
       "      <td>...</td>\n",
       "      <td>...</td>\n",
       "      <td>...</td>\n",
       "    </tr>\n",
       "    <tr>\n",
       "      <th>2017-06-30</th>\n",
       "      <td>2619.809885</td>\n",
       "      <td>2621.750939</td>\n",
       "      <td>2617.541451</td>\n",
       "      <td>2619.677824</td>\n",
       "      <td>10.481483</td>\n",
       "      <td>27165.338375</td>\n",
       "      <td>2619.600435</td>\n",
       "      <td>18.116818</td>\n",
       "    </tr>\n",
       "    <tr>\n",
       "      <th>2017-07-31</th>\n",
       "      <td>2494.769778</td>\n",
       "      <td>2496.656952</td>\n",
       "      <td>2492.661544</td>\n",
       "      <td>2494.766902</td>\n",
       "      <td>10.054091</td>\n",
       "      <td>24643.849763</td>\n",
       "      <td>2494.630974</td>\n",
       "      <td>17.901681</td>\n",
       "    </tr>\n",
       "    <tr>\n",
       "      <th>2017-08-31</th>\n",
       "      <td>3827.965884</td>\n",
       "      <td>3830.885656</td>\n",
       "      <td>3824.345003</td>\n",
       "      <td>3827.909653</td>\n",
       "      <td>8.500598</td>\n",
       "      <td>32596.401999</td>\n",
       "      <td>3827.624063</td>\n",
       "      <td>19.855097</td>\n",
       "    </tr>\n",
       "    <tr>\n",
       "      <th>2017-09-30</th>\n",
       "      <td>4085.180361</td>\n",
       "      <td>4088.839694</td>\n",
       "      <td>4080.750941</td>\n",
       "      <td>4084.977109</td>\n",
       "      <td>12.036782</td>\n",
       "      <td>47905.238197</td>\n",
       "      <td>4084.693686</td>\n",
       "      <td>20.165756</td>\n",
       "    </tr>\n",
       "    <tr>\n",
       "      <th>2017-10-31</th>\n",
       "      <td>4950.961582</td>\n",
       "      <td>4953.530197</td>\n",
       "      <td>4947.577466</td>\n",
       "      <td>4950.861852</td>\n",
       "      <td>7.629340</td>\n",
       "      <td>38263.292517</td>\n",
       "      <td>4950.505766</td>\n",
       "      <td>21.107158</td>\n",
       "    </tr>\n",
       "  </tbody>\n",
       "</table>\n",
       "<p>71 rows × 8 columns</p>\n",
       "</div>"
      ],
      "text/plain": [
       "                   Open         High          Low        Close  Volume_(BTC)  \\\n",
       "Timestamp                                                                      \n",
       "2011-12-31     4.472552     4.472624     4.472552     4.472624      7.590527   \n",
       "2012-01-31     6.235412     6.239745     6.231737     6.236086      4.955810   \n",
       "2012-02-29     5.234146     5.234743     5.231709     5.232306      7.153212   \n",
       "2012-03-31     4.960839     4.961539     4.953547     4.953967     13.455398   \n",
       "2012-04-30     4.980709     4.982016     4.979536     4.980802     18.732216   \n",
       "...                 ...          ...          ...          ...           ...   \n",
       "2017-06-30  2619.809885  2621.750939  2617.541451  2619.677824     10.481483   \n",
       "2017-07-31  2494.769778  2496.656952  2492.661544  2494.766902     10.054091   \n",
       "2017-08-31  3827.965884  3830.885656  3824.345003  3827.909653      8.500598   \n",
       "2017-09-30  4085.180361  4088.839694  4080.750941  4084.977109     12.036782   \n",
       "2017-10-31  4950.961582  4953.530197  4947.577466  4950.861852      7.629340   \n",
       "\n",
       "            Volume_(Currency)  Weighted_Price  Weighted_Price_box  \n",
       "Timestamp                                                          \n",
       "2011-12-31          34.069690        4.472579            1.731340  \n",
       "2012-01-31          29.527545        6.234949            2.186296  \n",
       "2012-02-29          37.120786        5.232734            1.942754  \n",
       "2012-03-31          66.445048        4.958308            1.869493  \n",
       "2012-04-30          92.674707        4.980866            1.875637  \n",
       "...                       ...             ...                 ...  \n",
       "2017-06-30       27165.338375     2619.600435           18.116818  \n",
       "2017-07-31       24643.849763     2494.630974           17.901681  \n",
       "2017-08-31       32596.401999     3827.624063           19.855097  \n",
       "2017-09-30       47905.238197     4084.693686           20.165756  \n",
       "2017-10-31       38263.292517     4950.505766           21.107158  \n",
       "\n",
       "[71 rows x 8 columns]"
      ]
     },
     "execution_count": 16,
     "metadata": {},
     "output_type": "execute_result"
    }
   ],
   "source": [
    "df_month['Weighted_Price_box'], lmbda = stats.boxcox(df_month.Weighted_Price)\n",
    "df_month"
   ]
  },
  {
   "cell_type": "code",
   "execution_count": 17,
   "id": "43e2fc58",
   "metadata": {},
   "outputs": [
    {
     "data": {
      "text/plain": [
       "<AxesSubplot:xlabel='Timestamp'>"
      ]
     },
     "execution_count": 17,
     "metadata": {},
     "output_type": "execute_result"
    },
    {
     "data": {
      "image/png": "[encoded data removed]",
      "text/plain": [
       "<Figure size 432x288 with 1 Axes>"
      ]
     },
     "metadata": {
      "needs_background": "light"
     },
     "output_type": "display_data"
    }
   ],
   "source": [
    "df_month['Weighted_Price_box'].plot()"
   ]
  },
  {
   "cell_type": "markdown",
   "id": "5146f8d8",
   "metadata": {},
   "source": [
    "## Using the differencing method to make the data stationary"
   ]
  },
  {
   "cell_type": "code",
   "execution_count": 18,
   "id": "ecdc7fdb",
   "metadata": {},
   "outputs": [],
   "source": [
    "df_month['Price_1st_diff'] = df_month['Weighted_Price_box'] - df_month['Weighted_Price_box'].shift(12)"
   ]
  },
  {
   "cell_type": "code",
   "execution_count": 19,
   "id": "90d826c8",
   "metadata": {},
   "outputs": [
    {
     "data": {
      "text/plain": [
       "<AxesSubplot:xlabel='Timestamp'>"
      ]
     },
     "execution_count": 19,
     "metadata": {},
     "output_type": "execute_result"
    },
    {
     "data": {
      "image/png": "[encoded data removed]",
      "text/plain": [
       "<Figure size 432x288 with 1 Axes>"
      ]
     },
     "metadata": {
      "needs_background": "light"
     },
     "output_type": "display_data"
    }
   ],
   "source": [
    "df_month['Price_1st_diff'].plot()"
   ]
  },
  {
   "cell_type": "code",
   "execution_count": 20,
   "id": "0afb477d",
   "metadata": {},
   "outputs": [
    {
     "name": "stdout",
     "output_type": "stream",
     "text": [
      "p-value: {} 0.1664012599315456\n",
      "Weak evidence against Null Hypothesis, indicating the data is not stationary\n"
     ]
    }
   ],
   "source": [
    "ad_fuller_test(df_month.Price_1st_diff[12:])"
   ]
  },
  {
   "cell_type": "code",
   "execution_count": 21,
   "id": "43b171ae",
   "metadata": {},
   "outputs": [],
   "source": [
    "# Again using the differencing the method \n",
    "df_month['Price_2nd_diff'] = df_month['Price_1st_diff'] - df_month['Price_1st_diff'].shift(1)"
   ]
  },
  {
   "cell_type": "code",
   "execution_count": 22,
   "id": "0b2af4a9",
   "metadata": {},
   "outputs": [
    {
     "data": {
      "text/plain": [
       "<AxesSubplot:xlabel='Timestamp'>"
      ]
     },
     "execution_count": 22,
     "metadata": {},
     "output_type": "execute_result"
    },
    {
     "data": {
      "image/png": "[encoded data removed]",
      "text/plain": [
       "<Figure size 432x288 with 1 Axes>"
      ]
     },
     "metadata": {
      "needs_background": "light"
     },
     "output_type": "display_data"
    }
   ],
   "source": [
    "df_month['Price_2nd_diff'].plot()"
   ]
  },
  {
   "cell_type": "code",
   "execution_count": 23,
   "id": "2facef22",
   "metadata": {},
   "outputs": [
    {
     "name": "stdout",
     "output_type": "stream",
     "text": [
      "p-value: {} 0.024551186025489148\n",
      "Strong evidence against Null Hypothesis, indicating the data is stationary\n"
     ]
    }
   ],
   "source": [
    "ad_fuller_test(df_month.Price_2nd_diff[13:])"
   ]
  },
  {
   "cell_type": "markdown",
   "id": "f48e3a5a",
   "metadata": {},
   "source": [
    "## Auto-Regressive model"
   ]
  },
  {
   "cell_type": "code",
   "execution_count": 24,
   "id": "54cf6f42",
   "metadata": {},
   "outputs": [],
   "source": [
    "from statsmodels.graphics.tsaplots import plot_acf, plot_pacf"
   ]
  },
  {
   "cell_type": "code",
   "execution_count": 25,
   "id": "f33d7aab",
   "metadata": {},
   "outputs": [
    {
     "data": {
      "image/png": "[encoded data removed]",
      "text/plain": [
       "<Figure size 1080x576 with 2 Axes>"
      ]
     },
     "metadata": {
      "needs_background": "light"
     },
     "output_type": "display_data"
    }
   ],
   "source": [
    "fig = plt.figure(figsize = (15,8))\n",
    "ax1 = fig.add_subplot(211)\n",
    "fig = plot_acf(df_month.Price_2nd_diff.iloc[13:], lags = 20, ax = ax1)\n",
    "ax2 = fig.add_subplot(212)\n",
    "fig = plot_pacf(df_month.Price_2nd_diff.iloc[13:], lags = 20, ax = ax2)\n",
    "plt.tight_layout()"
   ]
  },
  {
   "cell_type": "code",
   "execution_count": 26,
   "id": "b1ce96f9",
   "metadata": {},
   "outputs": [],
   "source": [
    "model = ARIMA(df_month['Weighted_Price'], order = (2,1,2))\n",
    "model_fit = model.fit()"
   ]
  },
  {
   "cell_type": "code",
   "execution_count": 27,
   "id": "de61d2e9",
   "metadata": {},
   "outputs": [
    {
     "data": {
      "text/html": [
       "<div>\n",
       "<style scoped>\n",
       "    .dataframe tbody tr th:only-of-type {\n",
       "        vertical-align: middle;\n",
       "    }\n",
       "\n",
       "    .dataframe tbody tr th {\n",
       "        vertical-align: top;\n",
       "    }\n",
       "\n",
       "    .dataframe thead th {\n",
       "        text-align: right;\n",
       "    }\n",
       "</style>\n",
       "<table border=\"1\" class=\"dataframe\">\n",
       "  <thead>\n",
       "    <tr style=\"text-align: right;\">\n",
       "      <th></th>\n",
       "      <th>Open</th>\n",
       "      <th>High</th>\n",
       "      <th>Low</th>\n",
       "      <th>Close</th>\n",
       "      <th>Volume_(BTC)</th>\n",
       "      <th>Volume_(Currency)</th>\n",
       "      <th>Weighted_Price</th>\n",
       "      <th>Weighted_Price_box</th>\n",
       "      <th>Price_1st_diff</th>\n",
       "      <th>Price_2nd_diff</th>\n",
       "    </tr>\n",
       "    <tr>\n",
       "      <th>Timestamp</th>\n",
       "      <th></th>\n",
       "      <th></th>\n",
       "      <th></th>\n",
       "      <th></th>\n",
       "      <th></th>\n",
       "      <th></th>\n",
       "      <th></th>\n",
       "      <th></th>\n",
       "      <th></th>\n",
       "      <th></th>\n",
       "    </tr>\n",
       "  </thead>\n",
       "  <tbody>\n",
       "    <tr>\n",
       "      <th>2011-12-31</th>\n",
       "      <td>4.472552</td>\n",
       "      <td>4.472624</td>\n",
       "      <td>4.472552</td>\n",
       "      <td>4.472624</td>\n",
       "      <td>7.590527</td>\n",
       "      <td>34.069690</td>\n",
       "      <td>4.472579</td>\n",
       "      <td>1.731340</td>\n",
       "      <td>NaN</td>\n",
       "      <td>NaN</td>\n",
       "    </tr>\n",
       "    <tr>\n",
       "      <th>2012-01-31</th>\n",
       "      <td>6.235412</td>\n",
       "      <td>6.239745</td>\n",
       "      <td>6.231737</td>\n",
       "      <td>6.236086</td>\n",
       "      <td>4.955810</td>\n",
       "      <td>29.527545</td>\n",
       "      <td>6.234949</td>\n",
       "      <td>2.186296</td>\n",
       "      <td>NaN</td>\n",
       "      <td>NaN</td>\n",
       "    </tr>\n",
       "    <tr>\n",
       "      <th>2012-02-29</th>\n",
       "      <td>5.234146</td>\n",
       "      <td>5.234743</td>\n",
       "      <td>5.231709</td>\n",
       "      <td>5.232306</td>\n",
       "      <td>7.153212</td>\n",
       "      <td>37.120786</td>\n",
       "      <td>5.232734</td>\n",
       "      <td>1.942754</td>\n",
       "      <td>NaN</td>\n",
       "      <td>NaN</td>\n",
       "    </tr>\n",
       "    <tr>\n",
       "      <th>2012-03-31</th>\n",
       "      <td>4.960839</td>\n",
       "      <td>4.961539</td>\n",
       "      <td>4.953547</td>\n",
       "      <td>4.953967</td>\n",
       "      <td>13.455398</td>\n",
       "      <td>66.445048</td>\n",
       "      <td>4.958308</td>\n",
       "      <td>1.869493</td>\n",
       "      <td>NaN</td>\n",
       "      <td>NaN</td>\n",
       "    </tr>\n",
       "    <tr>\n",
       "      <th>2012-04-30</th>\n",
       "      <td>4.980709</td>\n",
       "      <td>4.982016</td>\n",
       "      <td>4.979536</td>\n",
       "      <td>4.980802</td>\n",
       "      <td>18.732216</td>\n",
       "      <td>92.674707</td>\n",
       "      <td>4.980866</td>\n",
       "      <td>1.875637</td>\n",
       "      <td>NaN</td>\n",
       "      <td>NaN</td>\n",
       "    </tr>\n",
       "    <tr>\n",
       "      <th>...</th>\n",
       "      <td>...</td>\n",
       "      <td>...</td>\n",
       "      <td>...</td>\n",
       "      <td>...</td>\n",
       "      <td>...</td>\n",
       "      <td>...</td>\n",
       "      <td>...</td>\n",
       "      <td>...</td>\n",
       "      <td>...</td>\n",
       "      <td>...</td>\n",
       "    </tr>\n",
       "    <tr>\n",
       "      <th>2017-06-30</th>\n",
       "      <td>2619.809885</td>\n",
       "      <td>2621.750939</td>\n",
       "      <td>2617.541451</td>\n",
       "      <td>2619.677824</td>\n",
       "      <td>10.481483</td>\n",
       "      <td>27165.338375</td>\n",
       "      <td>2619.600435</td>\n",
       "      <td>18.116818</td>\n",
       "      <td>5.480098</td>\n",
       "      <td>0.350836</td>\n",
       "    </tr>\n",
       "    <tr>\n",
       "      <th>2017-07-31</th>\n",
       "      <td>2494.769778</td>\n",
       "      <td>2496.656952</td>\n",
       "      <td>2492.661544</td>\n",
       "      <td>2494.766902</td>\n",
       "      <td>10.054091</td>\n",
       "      <td>24643.849763</td>\n",
       "      <td>2494.630974</td>\n",
       "      <td>17.901681</td>\n",
       "      <td>5.148585</td>\n",
       "      <td>-0.331512</td>\n",
       "    </tr>\n",
       "    <tr>\n",
       "      <th>2017-08-31</th>\n",
       "      <td>3827.965884</td>\n",
       "      <td>3830.885656</td>\n",
       "      <td>3824.345003</td>\n",
       "      <td>3827.909653</td>\n",
       "      <td>8.500598</td>\n",
       "      <td>32596.401999</td>\n",
       "      <td>3827.624063</td>\n",
       "      <td>19.855097</td>\n",
       "      <td>7.548814</td>\n",
       "      <td>2.400228</td>\n",
       "    </tr>\n",
       "    <tr>\n",
       "      <th>2017-09-30</th>\n",
       "      <td>4085.180361</td>\n",
       "      <td>4088.839694</td>\n",
       "      <td>4080.750941</td>\n",
       "      <td>4084.977109</td>\n",
       "      <td>12.036782</td>\n",
       "      <td>47905.238197</td>\n",
       "      <td>4084.693686</td>\n",
       "      <td>20.165756</td>\n",
       "      <td>7.721524</td>\n",
       "      <td>0.172710</td>\n",
       "    </tr>\n",
       "    <tr>\n",
       "      <th>2017-10-31</th>\n",
       "      <td>4950.961582</td>\n",
       "      <td>4953.530197</td>\n",
       "      <td>4947.577466</td>\n",
       "      <td>4950.861852</td>\n",
       "      <td>7.629340</td>\n",
       "      <td>38263.292517</td>\n",
       "      <td>4950.505766</td>\n",
       "      <td>21.107158</td>\n",
       "      <td>8.467185</td>\n",
       "      <td>0.745661</td>\n",
       "    </tr>\n",
       "  </tbody>\n",
       "</table>\n",
       "<p>71 rows × 10 columns</p>\n",
       "</div>"
      ],
      "text/plain": [
       "                   Open         High          Low        Close  Volume_(BTC)  \\\n",
       "Timestamp                                                                      \n",
       "2011-12-31     4.472552     4.472624     4.472552     4.472624      7.590527   \n",
       "2012-01-31     6.235412     6.239745     6.231737     6.236086      4.955810   \n",
       "2012-02-29     5.234146     5.234743     5.231709     5.232306      7.153212   \n",
       "2012-03-31     4.960839     4.961539     4.953547     4.953967     13.455398   \n",
       "2012-04-30     4.980709     4.982016     4.979536     4.980802     18.732216   \n",
       "...                 ...          ...          ...          ...           ...   \n",
       "2017-06-30  2619.809885  2621.750939  2617.541451  2619.677824     10.481483   \n",
       "2017-07-31  2494.769778  2496.656952  2492.661544  2494.766902     10.054091   \n",
       "2017-08-31  3827.965884  3830.885656  3824.345003  3827.909653      8.500598   \n",
       "2017-09-30  4085.180361  4088.839694  4080.750941  4084.977109     12.036782   \n",
       "2017-10-31  4950.961582  4953.530197  4947.577466  4950.861852      7.629340   \n",
       "\n",
       "            Volume_(Currency)  Weighted_Price  Weighted_Price_box  \\\n",
       "Timestamp                                                           \n",
       "2011-12-31          34.069690        4.472579            1.731340   \n",
       "2012-01-31          29.527545        6.234949            2.186296   \n",
       "2012-02-29          37.120786        5.232734            1.942754   \n",
       "2012-03-31          66.445048        4.958308            1.869493   \n",
       "2012-04-30          92.674707        4.980866            1.875637   \n",
       "...                       ...             ...                 ...   \n",
       "2017-06-30       27165.338375     2619.600435           18.116818   \n",
       "2017-07-31       24643.849763     2494.630974           17.901681   \n",
       "2017-08-31       32596.401999     3827.624063           19.855097   \n",
       "2017-09-30       47905.238197     4084.693686           20.165756   \n",
       "2017-10-31       38263.292517     4950.505766           21.107158   \n",
       "\n",
       "            Price_1st_diff  Price_2nd_diff  \n",
       "Timestamp                                   \n",
       "2011-12-31             NaN             NaN  \n",
       "2012-01-31             NaN             NaN  \n",
       "2012-02-29             NaN             NaN  \n",
       "2012-03-31             NaN             NaN  \n",
       "2012-04-30             NaN             NaN  \n",
       "...                    ...             ...  \n",
       "2017-06-30        5.480098        0.350836  \n",
       "2017-07-31        5.148585       -0.331512  \n",
       "2017-08-31        7.548814        2.400228  \n",
       "2017-09-30        7.721524        0.172710  \n",
       "2017-10-31        8.467185        0.745661  \n",
       "\n",
       "[71 rows x 10 columns]"
      ]
     },
     "execution_count": 27,
     "metadata": {},
     "output_type": "execute_result"
    }
   ],
   "source": [
    "df_month"
   ]
  },
  {
   "cell_type": "code",
   "execution_count": 28,
   "id": "73b045eb",
   "metadata": {},
   "outputs": [
    {
     "data": {
      "text/plain": [
       "<AxesSubplot:xlabel='Timestamp'>"
      ]
     },
     "execution_count": 28,
     "metadata": {},
     "output_type": "execute_result"
    },
    {
     "data": {
      "image/png": "[encoded data removed]",
      "text/plain": [
       "<Figure size 864x576 with 1 Axes>"
      ]
     },
     "metadata": {
      "needs_background": "light"
     },
     "output_type": "display_data"
    }
   ],
   "source": [
    "df_month['Forecast'] = model_fit.predict(start = 50, end = 69, dynamic = True)\n",
    "df_month[['Weighted_Price', 'Forecast']].plot(figsize = (12,8))"
   ]
  },
  {
   "cell_type": "markdown",
   "id": "2bd7e95f",
   "metadata": {},
   "source": [
    "# SARIMA MODEL"
   ]
  },
  {
   "cell_type": "code",
   "execution_count": 29,
   "id": "31f4c3d9",
   "metadata": {},
   "outputs": [],
   "source": [
    "def invboxcox(y,lmbda):\n",
    "    if lmbda == 0:\n",
    "        return(np.exp(y))\n",
    "    else:\n",
    "        return(np.exp(np.log(lmbda*y+1)/lmbda))"
   ]
  },
  {
   "cell_type": "code",
   "execution_count": 30,
   "id": "dcdfb13c",
   "metadata": {},
   "outputs": [],
   "source": [
    "# Creating a list for the parameters p,d,q\n",
    "\n",
    "Qs = range(0, 2)\n",
    "qs = range(0, 3)\n",
    "Ps = range(0, 3)\n",
    "ps = range(0, 3)\n",
    "D=1\n",
    "d=1\n",
    "parameters = product(ps, qs, Ps, Qs)\n",
    "parameters_list = list(parameters)"
   ]
  },
  {
   "cell_type": "code",
   "execution_count": 31,
   "id": "1ea63299",
   "metadata": {},
   "outputs": [],
   "source": [
    "# Model Selection \n",
    "results = []\n",
    "best_aic = float(\"inf\")\n",
    "warnings.filterwarnings('ignore')\n",
    "for param in parameters_list:\n",
    "    try:\n",
    "        model=sm.tsa.statespace.SARIMAX(df_month.Weighted_Price_box, order=(param[0], d, param[1]), \n",
    "                                        seasonal_order=(param[2], D, param[3], 12)).fit(disp=-1)\n",
    "    except ValueError:\n",
    "        print('wrong parameters:', param)\n",
    "        continue\n",
    "    aic = model.aic\n",
    "    if aic < best_aic:\n",
    "        best_model = model\n",
    "        best_aic = aic\n",
    "        best_param = param\n",
    "    results.append([param, model.aic])"
   ]
  },
  {
   "cell_type": "code",
   "execution_count": 32,
   "id": "d57058b3",
   "metadata": {},
   "outputs": [
    {
     "name": "stdout",
     "output_type": "stream",
     "text": [
      "                                      SARIMAX Results                                       \n",
      "============================================================================================\n",
      "Dep. Variable:                   Weighted_Price_box   No. Observations:                   71\n",
      "Model:             SARIMAX(2, 1, 2)x(0, 1, [1], 12)   Log Likelihood                 -66.577\n",
      "Date:                              Sun, 16 Jan 2022   AIC                            145.154\n",
      "Time:                                      15:20:23   BIC                            157.517\n",
      "Sample:                                  12-31-2011   HQIC                           149.970\n",
      "                                       - 10-31-2017                                         \n",
      "Covariance Type:                                opg                                         \n",
      "==============================================================================\n",
      "                 coef    std err          z      P>|z|      [0.025      0.975]\n",
      "------------------------------------------------------------------------------\n",
      "ar.L1          1.1441      0.163      7.025      0.000       0.825       1.463\n",
      "ar.L2         -0.8388      0.136     -6.176      0.000      -1.105      -0.573\n",
      "ma.L1         -0.9768      0.983     -0.994      0.320      -2.903       0.949\n",
      "ma.L2          0.9898      1.916      0.517      0.605      -2.765       4.744\n",
      "ma.S.L12      -0.9936     23.281     -0.043      0.966     -46.623      44.636\n",
      "sigma2         0.3551      7.764      0.046      0.964     -14.863      15.573\n",
      "===================================================================================\n",
      "Ljung-Box (L1) (Q):                   0.57   Jarque-Bera (JB):                 5.84\n",
      "Prob(Q):                              0.45   Prob(JB):                         0.05\n",
      "Heteroskedasticity (H):               1.10   Skew:                             0.67\n",
      "Prob(H) (two-sided):                  0.84   Kurtosis:                         3.78\n",
      "===================================================================================\n",
      "\n",
      "Warnings:\n",
      "[1] Covariance matrix calculated using the outer product of gradients (complex-step).\n"
     ]
    }
   ],
   "source": [
    "print(best_model.summary())"
   ]
  },
  {
   "cell_type": "code",
   "execution_count": 33,
   "id": "1abd0d89",
   "metadata": {},
   "outputs": [
    {
     "data": {
      "text/html": [
       "<div>\n",
       "<style scoped>\n",
       "    .dataframe tbody tr th:only-of-type {\n",
       "        vertical-align: middle;\n",
       "    }\n",
       "\n",
       "    .dataframe tbody tr th {\n",
       "        vertical-align: top;\n",
       "    }\n",
       "\n",
       "    .dataframe thead th {\n",
       "        text-align: right;\n",
       "    }\n",
       "</style>\n",
       "<table border=\"1\" class=\"dataframe\">\n",
       "  <thead>\n",
       "    <tr style=\"text-align: right;\">\n",
       "      <th></th>\n",
       "      <th>Open</th>\n",
       "      <th>High</th>\n",
       "      <th>Low</th>\n",
       "      <th>Close</th>\n",
       "      <th>Volume_(BTC)</th>\n",
       "      <th>Volume_(Currency)</th>\n",
       "      <th>Weighted_Price</th>\n",
       "      <th>Weighted_Price_box</th>\n",
       "      <th>Price_1st_diff</th>\n",
       "      <th>Price_2nd_diff</th>\n",
       "      <th>Forecast</th>\n",
       "    </tr>\n",
       "  </thead>\n",
       "  <tbody>\n",
       "    <tr>\n",
       "      <th>2017-06-30</th>\n",
       "      <td>NaN</td>\n",
       "      <td>NaN</td>\n",
       "      <td>NaN</td>\n",
       "      <td>NaN</td>\n",
       "      <td>NaN</td>\n",
       "      <td>NaN</td>\n",
       "      <td>NaN</td>\n",
       "      <td>NaN</td>\n",
       "      <td>NaN</td>\n",
       "      <td>NaN</td>\n",
       "      <td>NaN</td>\n",
       "    </tr>\n",
       "    <tr>\n",
       "      <th>2017-07-31</th>\n",
       "      <td>NaN</td>\n",
       "      <td>NaN</td>\n",
       "      <td>NaN</td>\n",
       "      <td>NaN</td>\n",
       "      <td>NaN</td>\n",
       "      <td>NaN</td>\n",
       "      <td>NaN</td>\n",
       "      <td>NaN</td>\n",
       "      <td>NaN</td>\n",
       "      <td>NaN</td>\n",
       "      <td>NaN</td>\n",
       "    </tr>\n",
       "    <tr>\n",
       "      <th>2017-08-31</th>\n",
       "      <td>NaN</td>\n",
       "      <td>NaN</td>\n",
       "      <td>NaN</td>\n",
       "      <td>NaN</td>\n",
       "      <td>NaN</td>\n",
       "      <td>NaN</td>\n",
       "      <td>NaN</td>\n",
       "      <td>NaN</td>\n",
       "      <td>NaN</td>\n",
       "      <td>NaN</td>\n",
       "      <td>NaN</td>\n",
       "    </tr>\n",
       "    <tr>\n",
       "      <th>2017-09-30</th>\n",
       "      <td>NaN</td>\n",
       "      <td>NaN</td>\n",
       "      <td>NaN</td>\n",
       "      <td>NaN</td>\n",
       "      <td>NaN</td>\n",
       "      <td>NaN</td>\n",
       "      <td>NaN</td>\n",
       "      <td>NaN</td>\n",
       "      <td>NaN</td>\n",
       "      <td>NaN</td>\n",
       "      <td>NaN</td>\n",
       "    </tr>\n",
       "    <tr>\n",
       "      <th>2017-10-31</th>\n",
       "      <td>NaN</td>\n",
       "      <td>NaN</td>\n",
       "      <td>NaN</td>\n",
       "      <td>NaN</td>\n",
       "      <td>NaN</td>\n",
       "      <td>NaN</td>\n",
       "      <td>NaN</td>\n",
       "      <td>NaN</td>\n",
       "      <td>NaN</td>\n",
       "      <td>NaN</td>\n",
       "      <td>NaN</td>\n",
       "    </tr>\n",
       "    <tr>\n",
       "      <th>2017-11-30</th>\n",
       "      <td>NaN</td>\n",
       "      <td>NaN</td>\n",
       "      <td>NaN</td>\n",
       "      <td>NaN</td>\n",
       "      <td>NaN</td>\n",
       "      <td>NaN</td>\n",
       "      <td>NaN</td>\n",
       "      <td>NaN</td>\n",
       "      <td>NaN</td>\n",
       "      <td>NaN</td>\n",
       "      <td>NaN</td>\n",
       "    </tr>\n",
       "    <tr>\n",
       "      <th>2017-12-31</th>\n",
       "      <td>NaN</td>\n",
       "      <td>NaN</td>\n",
       "      <td>NaN</td>\n",
       "      <td>NaN</td>\n",
       "      <td>NaN</td>\n",
       "      <td>NaN</td>\n",
       "      <td>NaN</td>\n",
       "      <td>NaN</td>\n",
       "      <td>NaN</td>\n",
       "      <td>NaN</td>\n",
       "      <td>NaN</td>\n",
       "    </tr>\n",
       "    <tr>\n",
       "      <th>2018-01-31</th>\n",
       "      <td>NaN</td>\n",
       "      <td>NaN</td>\n",
       "      <td>NaN</td>\n",
       "      <td>NaN</td>\n",
       "      <td>NaN</td>\n",
       "      <td>NaN</td>\n",
       "      <td>NaN</td>\n",
       "      <td>NaN</td>\n",
       "      <td>NaN</td>\n",
       "      <td>NaN</td>\n",
       "      <td>NaN</td>\n",
       "    </tr>\n",
       "    <tr>\n",
       "      <th>2018-01-28</th>\n",
       "      <td>NaN</td>\n",
       "      <td>NaN</td>\n",
       "      <td>NaN</td>\n",
       "      <td>NaN</td>\n",
       "      <td>NaN</td>\n",
       "      <td>NaN</td>\n",
       "      <td>NaN</td>\n",
       "      <td>NaN</td>\n",
       "      <td>NaN</td>\n",
       "      <td>NaN</td>\n",
       "      <td>NaN</td>\n",
       "    </tr>\n",
       "  </tbody>\n",
       "</table>\n",
       "</div>"
      ],
      "text/plain": [
       "           Open High  Low Close Volume_(BTC) Volume_(Currency) Weighted_Price  \\\n",
       "2017-06-30  NaN  NaN  NaN   NaN          NaN               NaN            NaN   \n",
       "2017-07-31  NaN  NaN  NaN   NaN          NaN               NaN            NaN   \n",
       "2017-08-31  NaN  NaN  NaN   NaN          NaN               NaN            NaN   \n",
       "2017-09-30  NaN  NaN  NaN   NaN          NaN               NaN            NaN   \n",
       "2017-10-31  NaN  NaN  NaN   NaN          NaN               NaN            NaN   \n",
       "2017-11-30  NaN  NaN  NaN   NaN          NaN               NaN            NaN   \n",
       "2017-12-31  NaN  NaN  NaN   NaN          NaN               NaN            NaN   \n",
       "2018-01-31  NaN  NaN  NaN   NaN          NaN               NaN            NaN   \n",
       "2018-01-28  NaN  NaN  NaN   NaN          NaN               NaN            NaN   \n",
       "\n",
       "           Weighted_Price_box Price_1st_diff Price_2nd_diff Forecast  \n",
       "2017-06-30                NaN            NaN            NaN      NaN  \n",
       "2017-07-31                NaN            NaN            NaN      NaN  \n",
       "2017-08-31                NaN            NaN            NaN      NaN  \n",
       "2017-09-30                NaN            NaN            NaN      NaN  \n",
       "2017-10-31                NaN            NaN            NaN      NaN  \n",
       "2017-11-30                NaN            NaN            NaN      NaN  \n",
       "2017-12-31                NaN            NaN            NaN      NaN  \n",
       "2018-01-31                NaN            NaN            NaN      NaN  \n",
       "2018-01-28                NaN            NaN            NaN      NaN  "
      ]
     },
     "execution_count": 33,
     "metadata": {},
     "output_type": "execute_result"
    }
   ],
   "source": [
    "# Creating a dataframe for future dates\n",
    "\n",
    "df_month2 = df_month[['Weighted_Price']]\n",
    "date_list = [datetime(2017, 6, 30), datetime(2017, 7, 31), datetime(2017, 8, 31), datetime(2017, 9, 30), \n",
    "             datetime(2017, 10, 31), datetime(2017, 11, 30), datetime(2017, 12, 31), datetime(2018, 1, 31),\n",
    "             datetime(2018, 1, 28)]\n",
    "future = pd.DataFrame(index=date_list, columns= df_month.columns)\n",
    "future"
   ]
  },
  {
   "cell_type": "code",
   "execution_count": 34,
   "id": "6c2ba29b",
   "metadata": {},
   "outputs": [],
   "source": [
    "# Concatenating the future dates dataframe with the original dataframe\n",
    "df_month2 = pd.concat([df_month2, future])"
   ]
  },
  {
   "cell_type": "code",
   "execution_count": 35,
   "id": "fb1d7abf",
   "metadata": {},
   "outputs": [
    {
     "data": {
      "image/png": "[encoded data removed]",
      "text/plain": [
       "<Figure size 1080x504 with 1 Axes>"
      ]
     },
     "metadata": {
      "needs_background": "light"
     },
     "output_type": "display_data"
    }
   ],
   "source": [
    "# Plot for the SARIMA Model\n",
    "df_month2['forecast'] = invboxcox(best_model.predict(start=0, end=75), lmbda)\n",
    "plt.figure(figsize=(15,7))\n",
    "df_month2.Weighted_Price.plot()\n",
    "df_month2.forecast.plot(color='r', ls='--', label='Predicted Weighted_Price')\n",
    "plt.legend()\n",
    "plt.title('Bitcoin exchanges, by months')\n",
    "plt.ylabel('mean USD')\n",
    "plt.show()"
   ]
  },
  {
   "cell_type": "code",
   "execution_count": null,
   "id": "03930b75",
   "metadata": {},
   "outputs": [],
   "source": []
  }
 ],
 "metadata": {
  "kernelspec": {
   "display_name": "Python 3",
   "language": "python",
   "name": "python3"
  },
  "language_info": {
   "codemirror_mode": {
    "name": "ipython",
    "version": 3
   },
   "file_extension": ".py",
   "mimetype": "text/x-python",
   "name": "python",
   "nbconvert_exporter": "python",
   "pygments_lexer": "ipython3",
   "version": "3.8.8"
  }
 },
 "nbformat": 4,
 "nbformat_minor": 5
}
